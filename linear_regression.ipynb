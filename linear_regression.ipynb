{
 "cells": [
  {
   "cell_type": "code",
   "execution_count": 1,
   "id": "1fcbb169-8635-47c6-8d58-1641c22f1e9e",
   "metadata": {
    "tags": []
   },
   "outputs": [],
   "source": [
    "import numpy as np \n",
    "import matplotlib.pyplot as plt\n",
    "import pandas as pd"
   ]
  },
  {
   "cell_type": "code",
   "execution_count": 2,
   "id": "006f6703-d2ec-4f04-9edb-6c9875d41587",
   "metadata": {
    "tags": []
   },
   "outputs": [],
   "source": [
    "data = pd.read_csv('Downloads/Salary_Data.csv')"
   ]
  },
  {
   "cell_type": "code",
   "execution_count": 69,
   "id": "de3d4d72-1629-47b2-b0bd-f85dd8fd3ecd",
   "metadata": {
    "tags": []
   },
   "outputs": [
    {
     "name": "stdout",
     "output_type": "stream",
     "text": [
      "    YearsExperience    Salary\n",
      "0               1.1   39343.0\n",
      "1               1.3   46205.0\n",
      "2               1.5   37731.0\n",
      "3               2.0   43525.0\n",
      "4               2.2   39891.0\n",
      "5               2.9   56642.0\n",
      "6               3.0   60150.0\n",
      "7               3.2   54445.0\n",
      "8               3.2   64445.0\n",
      "9               3.7   57189.0\n",
      "10              3.9   63218.0\n",
      "11              4.0   55794.0\n",
      "12              4.0   56957.0\n",
      "13              4.1   57081.0\n",
      "14              4.5   61111.0\n",
      "15              4.9   67938.0\n",
      "16              5.1   66029.0\n",
      "17              5.3   83088.0\n",
      "18              5.9   81363.0\n",
      "19              6.0   93940.0\n",
      "20              6.8   91738.0\n",
      "21              7.1   98273.0\n",
      "22              7.9  101302.0\n",
      "23              8.2  113812.0\n",
      "24              8.7  109431.0\n",
      "25              9.0  105582.0\n",
      "26              9.5  116969.0\n",
      "27              9.6  112635.0\n",
      "28             10.3  122391.0\n",
      "29             10.5  121872.0\n"
     ]
    }
   ],
   "source": [
    "print(data)"
   ]
  },
  {
   "cell_type": "code",
   "execution_count": 25,
   "id": "257bb115-68c4-4a01-9b35-46123c89ff5f",
   "metadata": {
    "tags": []
   },
   "outputs": [
    {
     "name": "stdout",
     "output_type": "stream",
     "text": [
      "(30, 1)\n"
     ]
    }
   ],
   "source": [
    "x = data['YearsExperience']\n",
    "x_model = np.array(x).reshape(len(x),1)\n",
    "y = data['Salary']\n",
    "y_model = np.array(y).reshape(len(y),1)\n",
    "print(x_model.shape)"
   ]
  },
  {
   "cell_type": "code",
   "execution_count": 27,
   "id": "fc078952-3c0b-4a1d-a68d-497beae96ac2",
   "metadata": {
    "tags": []
   },
   "outputs": [
    {
     "name": "stdout",
     "output_type": "stream",
     "text": [
      "(1, 30)\n",
      "(1, 30)\n"
     ]
    }
   ],
   "source": [
    "X_train = x_model.T\n",
    "Y_train = y_model.T\n",
    "print(X_train.shape)\n",
    "print(Y_train.shape)"
   ]
  },
  {
   "cell_type": "code",
   "execution_count": 35,
   "id": "e08b1fdf-9d96-4c16-9165-e0aae48ac2a8",
   "metadata": {},
   "outputs": [],
   "source": [
    "def linearregression(X,Y,lr,itr):\n",
    "    m = X.shape[1]\n",
    "    n = X.shape[0]\n",
    "    \n",
    "    W = np.zeros((n,1))\n",
    "    B = 0\n",
    "    cost_list = []\n",
    "    for i in range(itr):\n",
    "        A = np.dot(W.T,X) + B\n",
    "        cost = (1/2*m)*np.sum(np.square(A-Y))\n",
    "        dw = (1/m)*np.dot(A-Y,X.T)\n",
    "        dB = (1/m)*np.sum(A-Y)\n",
    "        W = W - lr*dw.T\n",
    "        B = B - lr*dB\n",
    "        cost_list.append(cost)\n",
    "        if(i%(itr/10)==0):\n",
    "            print(\"cost after \",i,\"iteration is \",cost)\n",
    "        \n",
    "    return W,B,cost_list"
   ]
  },
  {
   "cell_type": "code",
   "execution_count": 50,
   "id": "923cdb93-a51a-423f-acb6-d2479c0bd000",
   "metadata": {},
   "outputs": [],
   "source": [
    " def predict(x):\n",
    "        return np.dot(x.T,W) + B"
   ]
  },
  {
   "cell_type": "code",
   "execution_count": 52,
   "id": "d57b7fd7-2c8f-45ef-9ebe-23e1ea886f26",
   "metadata": {
    "tags": []
   },
   "outputs": [
    {
     "name": "stdout",
     "output_type": "stream",
     "text": [
      "cost after  0 iteration is  2926329871830.0\n",
      "cost after  5000 iteration is  20752255735.472404\n",
      "cost after  10000 iteration is  14877427921.323668\n",
      "cost after  15000 iteration is  14169053705.482767\n",
      "cost after  20000 iteration is  14083639452.41142\n",
      "cost after  25000 iteration is  14073340383.833557\n",
      "cost after  30000 iteration is  14072098544.096533\n",
      "cost after  35000 iteration is  14071948805.707985\n",
      "cost after  40000 iteration is  14071930750.57225\n",
      "cost after  45000 iteration is  14071928573.522478\n"
     ]
    }
   ],
   "source": [
    "lr = 0.001\n",
    "itr = 50000\n",
    "\n",
    "W,B,cost_list = linearregression(X_train,Y_train,lr=lr,itr=itr)"
   ]
  },
  {
   "cell_type": "code",
   "execution_count": 55,
   "id": "f15fcfb1-e963-4335-9b3d-6295393576f6",
   "metadata": {},
   "outputs": [
    {
     "data": {
      "text/plain": [
       "array([[73041.85486278]])"
      ]
     },
     "execution_count": 55,
     "metadata": {},
     "output_type": "execute_result"
    }
   ],
   "source": [
    "x = np.array(5)\n",
    "predict(x)"
   ]
  },
  {
   "cell_type": "code",
   "execution_count": null,
   "id": "d0578208-3ebd-40ab-986c-7c66c30bd7e3",
   "metadata": {
    "tags": []
   },
   "outputs": [],
   "source": [
    "y_pl = model.predict(x_model)"
   ]
  },
  {
   "cell_type": "code",
   "execution_count": 60,
   "id": "ad1fa961-aeac-4a91-b2c6-ff564c31a82e",
   "metadata": {
    "tags": []
   },
   "outputs": [
    {
     "data": {
      "image/png": "[encoded data removed]",
      "text/plain": [
       "<Figure size 640x480 with 1 Axes>"
      ]
     },
     "metadata": {},
     "output_type": "display_data"
    }
   ],
   "source": [
    "m1= plt.scatter(x_model,y_model)\n",
    "m2 =plt.scatter(5,predict(np.array(5)))\n",
    "m3= plt.plot(x_model,Y_pred)"
   ]
  },
  {
   "cell_type": "code",
   "execution_count": 16,
   "id": "40d6bc5b-f9b1-4b49-87fc-b9feba8962c2",
   "metadata": {
    "tags": []
   },
   "outputs": [],
   "source": [
    "import sklearn.metrics as sm"
   ]
  },
  {
   "cell_type": "code",
   "execution_count": 61,
   "id": "58524c8e-ac84-4c98-bdb8-4a0ef8069f8c",
   "metadata": {
    "tags": []
   },
   "outputs": [
    {
     "name": "stdout",
     "output_type": "stream",
     "text": [
      "Mean squared error = 31270951.8\n"
     ]
    }
   ],
   "source": [
    "\n",
    "print(\"Mean squared error =\", round(sm.mean_squared_error(y_model, Y_pred), 2))"
   ]
  },
  {
   "cell_type": "code",
   "execution_count": 63,
   "id": "5bd8fb34-9b88-42d4-b127-fc98610a4408",
   "metadata": {
    "tags": []
   },
   "outputs": [
    {
     "name": "stdout",
     "output_type": "stream",
     "text": [
      "Explain variance score = 0.96\n"
     ]
    }
   ],
   "source": [
    "print(\"Explain variance score =\", round(sm.explained_variance_score(y_model, Y_pred), 2))"
   ]
  },
  {
   "cell_type": "code",
   "execution_count": 65,
   "id": "f91990e9-42ea-4f4f-81d9-b868e3942d44",
   "metadata": {
    "tags": []
   },
   "outputs": [
    {
     "name": "stdout",
     "output_type": "stream",
     "text": [
      "R2 score = 0.96\n"
     ]
    }
   ],
   "source": [
    "print(\"R2 score =\", round(sm.r2_score(y_model, Y_pred), 2))"
   ]
  },
  {
   "cell_type": "code",
   "execution_count": 66,
   "id": "7b7a0395-d315-44bf-95f8-a2dfdc65aeba",
   "metadata": {
    "tags": []
   },
   "outputs": [
    {
     "data": {
      "text/plain": [
       "[<matplotlib.lines.Line2D at 0x2032997c8b0>]"
      ]
     },
     "execution_count": 66,
     "metadata": {},
     "output_type": "execute_result"
    },
    {
     "data": {
      "image/png": "[encoded data removed]",
      "text/plain": [
       "<Figure size 640x480 with 1 Axes>"
      ]
     },
     "metadata": {},
     "output_type": "display_data"
    }
   ],
   "source": [
    "itr_list= []\n",
    "for i in range(50000):\n",
    "    itr_list.append(i)\n",
    "plt.plot(cost_list,itr_list)\n"
   ]
  }
 ],
 "metadata": {
  "kernelspec": {
   "display_name": "Python 3 (ipykernel)",
   "language": "python",
   "name": "python3"
  },
  "language_info": {
   "codemirror_mode": {
    "name": "ipython",
    "version": 3
   },
   "file_extension": ".py",
   "mimetype": "text/x-python",
   "name": "python",
   "nbconvert_exporter": "python",
   "pygments_lexer": "ipython3",
   "version": "3.9.6"
  }
 },
 "nbformat": 4,
 "nbformat_minor": 5
}
